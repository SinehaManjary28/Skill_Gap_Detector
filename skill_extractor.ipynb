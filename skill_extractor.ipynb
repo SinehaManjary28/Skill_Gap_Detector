{
 "cells": [
  {
   "cell_type": "code",
   "execution_count": 12,
   "id": "f4059cf7",
   "metadata": {},
   "outputs": [
    {
     "name": "stdout",
     "output_type": "stream",
     "text": [
      "Collecting PyMuPDF\n",
      "  Downloading pymupdf-1.25.5-cp39-abi3-win_amd64.whl.metadata (3.4 kB)\n",
      "Downloading pymupdf-1.25.5-cp39-abi3-win_amd64.whl (16.6 MB)\n",
      "   ---------------------------------------- 0.0/16.6 MB ? eta -:--:--\n",
      "    --------------------------------------- 0.3/16.6 MB ? eta -:--:--\n",
      "   -- ------------------------------------- 1.0/16.6 MB 3.6 MB/s eta 0:00:05\n",
      "   ---- ----------------------------------- 1.8/16.6 MB 3.7 MB/s eta 0:00:04\n",
      "   ------ --------------------------------- 2.6/16.6 MB 3.7 MB/s eta 0:00:04\n",
      "   ------- -------------------------------- 3.1/16.6 MB 3.5 MB/s eta 0:00:04\n",
      "   --------- ------------------------------ 3.9/16.6 MB 3.3 MB/s eta 0:00:04\n",
      "   ---------- ----------------------------- 4.5/16.6 MB 3.4 MB/s eta 0:00:04\n",
      "   ------------- -------------------------- 5.5/16.6 MB 3.6 MB/s eta 0:00:04\n",
      "   --------------- ------------------------ 6.3/16.6 MB 3.5 MB/s eta 0:00:03\n",
      "   ----------------- ---------------------- 7.1/16.6 MB 3.5 MB/s eta 0:00:03\n",
      "   ------------------ --------------------- 7.9/16.6 MB 3.5 MB/s eta 0:00:03\n",
      "   -------------------- ------------------- 8.4/16.6 MB 3.5 MB/s eta 0:00:03\n",
      "   ---------------------- ----------------- 9.2/16.6 MB 3.5 MB/s eta 0:00:03\n",
      "   ----------------------- ---------------- 9.7/16.6 MB 3.5 MB/s eta 0:00:02\n",
      "   ------------------------- -------------- 10.7/16.6 MB 3.4 MB/s eta 0:00:02\n",
      "   --------------------------- ------------ 11.5/16.6 MB 3.5 MB/s eta 0:00:02\n",
      "   ----------------------------- ---------- 12.3/16.6 MB 3.5 MB/s eta 0:00:02\n",
      "   ------------------------------ --------- 12.8/16.6 MB 3.5 MB/s eta 0:00:02\n",
      "   -------------------------------- ------- 13.6/16.6 MB 3.4 MB/s eta 0:00:01\n",
      "   ---------------------------------- ----- 14.4/16.6 MB 3.4 MB/s eta 0:00:01\n",
      "   ------------------------------------ --- 14.9/16.6 MB 3.4 MB/s eta 0:00:01\n",
      "   ------------------------------------- -- 15.5/16.6 MB 3.4 MB/s eta 0:00:01\n",
      "   ---------------------------------------  16.3/16.6 MB 3.4 MB/s eta 0:00:01\n",
      "   ---------------------------------------- 16.6/16.6 MB 3.3 MB/s eta 0:00:00\n",
      "Installing collected packages: PyMuPDF\n",
      "Successfully installed PyMuPDF-1.25.5\n"
     ]
    }
   ],
   "source": [
    "!pip install PyMuPDF"
   ]
  },
  {
   "cell_type": "code",
   "execution_count": null,
   "id": "d539aa73",
   "metadata": {},
   "outputs": [
    {
     "name": "stdout",
     "output_type": "stream",
     "text": [
      "{'skills': ['Communication', 'Data Analysis', 'Data Science', 'Data Visualization', 'Excel', 'HTML', 'Machine Learning', 'Mathematics', 'Problem-Solving', 'Teamwork', 'Time Management']}\n"
     ]
    }
   ],
   "source": [
    "# Final version of the code\n",
    "\n",
    "\n",
    "import fitz  # PyMuPDF\n",
    "import json\n",
    "import re\n",
    "\n",
    "# STEP 1: Extract raw text from PDF\n",
    "def extract_text_from_pdf(pdf_path):\n",
    "    text = \"\"\n",
    "    doc = fitz.open(pdf_path)\n",
    "    for page in doc:\n",
    "        text += page.get_text()\n",
    "    return text\n",
    "\n",
    "# STEP 2: Normalize text (remove extra whitespace, replace | with space)\n",
    "def normalize_text(text):\n",
    "    text = text.replace('|', ' ')  # Treat '|' as space separator\n",
    "    text = re.sub(r'\\s+', ' ', text)  # Collapse multiple spaces/newlines into one\n",
    "    return text.strip().lower()\n",
    "\n",
    "def normalize_skill(skill):\n",
    "    return re.sub(r'\\s+', ' ', skill).strip().lower()\n",
    "\n",
    "# STEP 3: Load skills from a JSON file\n",
    "def load_skills_from_json(json_path):\n",
    "    with open(json_path, 'r', encoding='utf-8') as f:\n",
    "        data = json.load(f)\n",
    "    return set(data.get('skills', []))\n",
    "\n",
    "# STEP 4: Match each normalized skill against the normalized text\n",
    "def extract_skills_with_exact_match(text, skill_set):\n",
    "    found_skills = set()\n",
    "    normalized_text = normalize_text(text)\n",
    "    for skill in skill_set:\n",
    "        normalized_skill = normalize_skill(skill)\n",
    "        # Check if the skill is a single word (like \"R\", \"C\")\n",
    "        if len(normalized_skill.split()) == 1:\n",
    "            # Use word boundary regex to avoid partial matches\n",
    "            if re.search(r'\\b' + re.escape(normalized_skill) + r'\\b', normalized_text):\n",
    "                found_skills.add(skill)\n",
    "        else:\n",
    "            # For multi-word skills, simple substring check is enough\n",
    "            if normalized_skill in normalized_text:\n",
    "                found_skills.add(skill)\n",
    "    return {'skills': sorted(found_skills)}\n",
    "\n",
    "\n",
    "# Example usage\n",
    "pdf_path = \"Profile_2.pdf\"  # Replace with your actual file\n",
    "skills_file = \"skills.json\"\n",
    "\n",
    "text = extract_text_from_pdf(pdf_path)\n",
    "skill_set = load_skills_from_json(skills_file)\n",
    "extracted_skills = extract_skills_with_exact_match(text, skill_set)\n",
    "\n",
    "print(extracted_skills)"
   ]
  },
  {
   "cell_type": "code",
   "execution_count": null,
   "id": "6104aea6",
   "metadata": {},
   "outputs": [],
   "source": []
  }
 ],
 "metadata": {
  "kernelspec": {
   "display_name": "base",
   "language": "python",
   "name": "python3"
  },
  "language_info": {
   "codemirror_mode": {
    "name": "ipython",
    "version": 3
   },
   "file_extension": ".py",
   "mimetype": "text/x-python",
   "name": "python",
   "nbconvert_exporter": "python",
   "pygments_lexer": "ipython3",
   "version": "3.12.7"
  }
 },
 "nbformat": 4,
 "nbformat_minor": 5
}
